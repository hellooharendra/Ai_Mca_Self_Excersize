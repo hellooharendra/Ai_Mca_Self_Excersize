{
 "cells": [
  {
   "cell_type": "code",
   "execution_count": 2,
   "metadata": {},
   "outputs": [
    {
     "name": "stdout",
     "output_type": "stream",
     "text": [
      "       Year Industry_aggregation_NZSIOC Industry_code_NZSIOC  \\\n",
      "0      2021                     Level 1                99999   \n",
      "1      2021                     Level 1                99999   \n",
      "2      2021                     Level 1                99999   \n",
      "3      2021                     Level 1                99999   \n",
      "4      2021                     Level 1                99999   \n",
      "...     ...                         ...                  ...   \n",
      "41710  2013                     Level 3                 ZZ11   \n",
      "41711  2013                     Level 3                 ZZ11   \n",
      "41712  2013                     Level 3                 ZZ11   \n",
      "41713  2013                     Level 3                 ZZ11   \n",
      "41714  2013                     Level 3                 ZZ11   \n",
      "\n",
      "             Industry_name_NZSIOC               Units Variable_code  \\\n",
      "0                  All industries  Dollars (millions)           H01   \n",
      "1                  All industries  Dollars (millions)           H04   \n",
      "2                  All industries  Dollars (millions)           H05   \n",
      "3                  All industries  Dollars (millions)           H07   \n",
      "4                  All industries  Dollars (millions)           H08   \n",
      "...                           ...                 ...           ...   \n",
      "41710  Food product manufacturing          Percentage           H37   \n",
      "41711  Food product manufacturing          Percentage           H38   \n",
      "41712  Food product manufacturing          Percentage           H39   \n",
      "41713  Food product manufacturing          Percentage           H40   \n",
      "41714  Food product manufacturing          Percentage           H41   \n",
      "\n",
      "                                         Variable_name      Variable_category  \\\n",
      "0                                         Total income  Financial performance   \n",
      "1      Sales, government funding, grants and subsidies  Financial performance   \n",
      "2                    Interest, dividends and donations  Financial performance   \n",
      "3                                 Non-operating income  Financial performance   \n",
      "4                                    Total expenditure  Financial performance   \n",
      "...                                                ...                    ...   \n",
      "41710                                      Quick ratio       Financial ratios   \n",
      "41711              Margin on sales of goods for resale       Financial ratios   \n",
      "41712                                 Return on equity       Financial ratios   \n",
      "41713                           Return on total assets       Financial ratios   \n",
      "41714                            Liabilities structure       Financial ratios   \n",
      "\n",
      "         Value                             Industry_code_ANZSIC06  \n",
      "0      757,504  ANZSIC06 divisions A-S (excluding classes K633...  \n",
      "1      674,890  ANZSIC06 divisions A-S (excluding classes K633...  \n",
      "2       49,593  ANZSIC06 divisions A-S (excluding classes K633...  \n",
      "3       33,020  ANZSIC06 divisions A-S (excluding classes K633...  \n",
      "4      654,404  ANZSIC06 divisions A-S (excluding classes K633...  \n",
      "...        ...                                                ...  \n",
      "41710       52  ANZSIC06 groups C111, C112, C113, C114, C115, ...  \n",
      "41711       40  ANZSIC06 groups C111, C112, C113, C114, C115, ...  \n",
      "41712       12  ANZSIC06 groups C111, C112, C113, C114, C115, ...  \n",
      "41713        5  ANZSIC06 groups C111, C112, C113, C114, C115, ...  \n",
      "41714       46  ANZSIC06 groups C111, C112, C113, C114, C115, ...  \n",
      "\n",
      "[41715 rows x 10 columns]\n"
     ]
    }
   ],
   "source": [
    "import pandas as pd\n",
    "df=pd.read_csv('file:///Users/harendraprajapati/Desktop/data/annual-enterprise-survey-2021-financial-year-provisional-csv.csv')\n",
    "print(df)\n",
    "\n"
   ]
  },
  {
   "cell_type": "code",
   "execution_count": null,
   "metadata": {},
   "outputs": [],
   "source": []
  }
 ],
 "metadata": {
  "kernelspec": {
   "display_name": "Python 3.10.6 64-bit",
   "language": "python",
   "name": "python3"
  },
  "language_info": {
   "codemirror_mode": {
    "name": "ipython",
    "version": 3
   },
   "file_extension": ".py",
   "mimetype": "text/x-python",
   "name": "python",
   "nbconvert_exporter": "python",
   "pygments_lexer": "ipython3",
   "version": "3.10.6"
  },
  "orig_nbformat": 4,
  "vscode": {
   "interpreter": {
    "hash": "aee8b7b246df8f9039afb4144a1f6fd8d2ca17a180786b69acc140d282b71a49"
   }
  }
 },
 "nbformat": 4,
 "nbformat_minor": 2
}
